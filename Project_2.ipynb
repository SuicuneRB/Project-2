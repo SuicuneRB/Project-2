{
  "nbformat": 4,
  "nbformat_minor": 0,
  "metadata": {
    "colab": {
      "name": "Project 2",
      "provenance": [],
      "authorship_tag": "ABX9TyMygqPBuCKECTU9CV4SWGbq",
      "include_colab_link": true
    },
    "kernelspec": {
      "name": "python3",
      "display_name": "Python 3"
    },
    "language_info": {
      "name": "python"
    }
  },
  "cells": [
    {
      "cell_type": "markdown",
      "metadata": {
        "id": "view-in-github",
        "colab_type": "text"
      },
      "source": [
        "<a href=\"https://colab.research.google.com/github/SuicuneRB/Project-2/blob/main/Project_2.ipynb\" target=\"_parent\"><img src=\"https://colab.research.google.com/assets/colab-badge.svg\" alt=\"Open In Colab\"/></a>"
      ]
    },
    {
      "cell_type": "code",
      "execution_count": 20,
      "metadata": {
        "colab": {
          "base_uri": "https://localhost:8080/"
        },
        "id": "LeNe9yfrzyS3",
        "outputId": "4ebbfa55-fc51-474f-e0ef-65ca2516c169"
      },
      "outputs": [
        {
          "output_type": "stream",
          "name": "stdout",
          "text": [
            "Parrot can fly\n",
            "Penguin can't fly\n"
          ]
        }
      ],
      "source": [
        "class Parrot:\n",
        "\n",
        "    def fly(self):\n",
        "        print(\"Parrot can fly\")\n",
        "    \n",
        "    def swim(self):\n",
        "        print(\"Parrot can't swim\")\n",
        "\n",
        "class Penguin:\n",
        "\n",
        "    def fly(self):\n",
        "        print(\"Penguin can't fly\")\n",
        "    \n",
        "    def swim(self):\n",
        "        print(\"Penguin can swim\")\n",
        "\n",
        "# common interface\n",
        "def flying_test(bird):\n",
        "    bird.fly()\n",
        "\n",
        "#instantiate objects\n",
        "blu = Parrot()\n",
        "peggy = Penguin()\n",
        "\n",
        "# passing the object\n",
        "flying_test(blu)\n",
        "flying_test(peggy)"
      ]
    }
  ]
}